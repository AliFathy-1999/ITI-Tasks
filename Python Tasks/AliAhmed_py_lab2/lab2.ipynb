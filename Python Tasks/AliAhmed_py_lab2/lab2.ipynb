{
 "cells": [
  {
   "cell_type": "code",
   "execution_count": 2,
   "metadata": {},
   "outputs": [
    {
     "data": {
      "text/plain": [
       "[3, 6, 0, 8]"
      ]
     },
     "execution_count": 2,
     "metadata": {},
     "output_type": "execute_result"
    }
   ],
   "source": [
    "# 1. Write a Program that takes a list of 5 numbers [3,6,4,0,8] then\n",
    "    # a.Remove the last element in the list .\n",
    "arr = [3,6,4,0,8]\n",
    "arr.pop()\n",
    "arr\n",
    "    # b.Add in the second place ‘R’.\n",
    "arr.insert(1,'R')\n",
    "arr\n",
    "# c. Ask the user to input a specific number in the list then delete it { by taking the list element not index}.\n",
    "arr = [3,6,4,0,8]\n",
    "userInput = int(input('Enter number you want to delete it from the list :'))\n",
    "arr.remove(userInput)\n",
    "arr\n"
   ]
  },
  {
   "cell_type": "code",
   "execution_count": 3,
   "metadata": {},
   "outputs": [
    {
     "name": "stdout",
     "output_type": "stream",
     "text": [
      "{'name': 'Ali Ahmed', 'age': 23, 'Track': 'Open source', 'hobbies': ['playing tennis', 'programming', 'watching movies', 'watching football'], 'email': 'aliahmedfathi@gmail.com', 'address': {'street': 'Nozha', 'city': 'Cairo', 'country': 'Egypt'}}\n"
     ]
    }
   ],
   "source": [
    "# 2.Create 2 dictionaries and append the two in one .{take into consideration unique keys }\n",
    "dict1 = {\n",
    "    \"name\":\"Ali Ahmed\",\n",
    "    \"age\":23,\n",
    "    \"Track\":\"Open source\",\n",
    "}\n",
    "dict2 = {\n",
    "    \"hobbies\":[\"playing tennis\",\"programming\",\"watching movies\",\"watching football\"],\n",
    "    \"email\":\"aliahmedfathi@gmail.com\",\n",
    "    \"address\": {\n",
    "        \"street\": \"Nozha\",\n",
    "        \"city\": \"Cairo\",\n",
    "        \"country\":\"Egypt\"\n",
    "    },\n",
    "}\n",
    "dict1.update(dict2)\n",
    "print(dict1)\n"
   ]
  },
  {
   "cell_type": "code",
   "execution_count": 4,
   "metadata": {},
   "outputs": [
    {
     "name": "stdout",
     "output_type": "stream",
     "text": [
      "[\"Hello, I'm Ali Ahmed Fathi\\n\", \"I'm 23 years old\\n\", \"I'am graduated from Aast\"]\n"
     ]
    }
   ],
   "source": [
    "# 3.Write a Python program to read a file line by line and store it into a list.\n",
    "arr = []\n",
    "datafile = open('data','r')\n",
    "for line in datafile:\n",
    "    arr.append(line)    \n",
    "print(arr)\n",
    "\n",
    "\n"
   ]
  },
  {
   "cell_type": "code",
   "execution_count": 5,
   "metadata": {},
   "outputs": [],
   "source": [
    "# 4.Add to problem#2 list yourname then Write the list to a new File\n",
    "dict1 = {\n",
    "    \"name\":\"Ali Ahmed\",\n",
    "    \"age\":23,\n",
    "    \"Track\":\"Open source\",\n",
    "}\n",
    "dict2 = {\n",
    "    \"hobbies\":[\"playing tennis\",\"programming\",\"watching movies\",\"watching football\"],\n",
    "    \"email\":\"aliahmedfathi@gmail.com\",\n",
    "    \"address\": {\n",
    "        \"street\": \"Nozha\",\n",
    "        \"city\": \"Cairo\",\n",
    "        \"country\":\"Egypt\"\n",
    "    },\n",
    "}\n",
    "dict1.update(dict2)\n",
    "myData = open(\"myData\",\"a\");\n",
    "convertDictToString = str(dict1)\n",
    "myData.write(convertDictToString)\n",
    "myData.close();\n",
    "\n",
    "\n"
   ]
  },
  {
   "cell_type": "code",
   "execution_count": 8,
   "metadata": {},
   "outputs": [
    {
     "name": "stdout",
     "output_type": "stream",
     "text": [
      "Can't divide with zero\n"
     ]
    }
   ],
   "source": [
    "# 5.Create package directory called Calculator and add file called my_functions that have the following functions\n",
    "# 6. Use the created Package in python code that takes input operand from User : 0->sum , 1->subtract , 2->divide , 3 ->Multiple\n",
    "import Calculator.my_functions as my_functions\n",
    "try:\n",
    "    firstNumber = float(input(\"Enter First Number : \"))\n",
    "    operator = input(\"please enter operation ex. '+', '-', '*' and '/' : \")\n",
    "    secondNumber = float(input(\"Enter Second Number : \"))\n",
    "    result = 0\n",
    "    match operator:\n",
    "        case \"+\":\n",
    "            result = my_functions.Sum(firstNumber,secondNumber)\n",
    "        case  \"-\":\n",
    "            result = my_functions.Subtract(firstNumber,secondNumber)\n",
    "        case \"*\":\n",
    "            result = my_functions.Multiply(firstNumber,secondNumber)\n",
    "        case \"/\":\n",
    "            result = my_functions.Divide(firstNumber,secondNumber)\n",
    "        case _:\n",
    "            raise Exception(\"Invalid Input, please enter operation ex. '+', '-', '*' and '/' .\")\n",
    "except ZeroDivisionError as z:\n",
    "    print(z)\n",
    "except ValueError as ve:\n",
    "    print(ve)\n",
    "except Exception as e:\n",
    "    print(e)\n",
    "else:\n",
    "    print(result)\n"
   ]
  },
  {
   "cell_type": "code",
   "execution_count": null,
   "metadata": {},
   "outputs": [],
   "source": []
  }
 ],
 "metadata": {
  "kernelspec": {
   "display_name": "Python 3",
   "language": "python",
   "name": "python3"
  },
  "language_info": {
   "codemirror_mode": {
    "name": "ipython",
    "version": 3
   },
   "file_extension": ".py",
   "mimetype": "text/x-python",
   "name": "python",
   "nbconvert_exporter": "python",
   "pygments_lexer": "ipython3",
   "version": "3.10.6"
  },
  "orig_nbformat": 4
 },
 "nbformat": 4,
 "nbformat_minor": 2
}
