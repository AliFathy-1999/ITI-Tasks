{
 "cells": [
  {
   "cell_type": "code",
   "execution_count": 1,
   "metadata": {},
   "outputs": [
    {
     "name": "stdout",
     "output_type": "stream",
     "text": [
      "Enter your string : \n",
      "4\n"
     ]
    }
   ],
   "source": [
    "#1.Write a program that counts up the number of vowels [a, e, i, o, u] contained in the string.\n",
    "print('Enter your string : ')\n",
    "userInput = input()\n",
    "counter = 0;\n",
    "vowels = [\"a\", \"e\", \"i\", \"o\", \"u\"]\n",
    "for char in userInput:\n",
    "        if char in vowels:\n",
    "            counter = counter + 1\n",
    "print(counter)\n",
    "\n"
   ]
  },
  {
   "cell_type": "code",
   "execution_count": 2,
   "metadata": {},
   "outputs": [
    {
     "name": "stdout",
     "output_type": "stream",
     "text": [
      "Enter your Array length : \n",
      "Enter your Array starts from : \n",
      "[2, 3, 4, 5, 6]\n"
     ]
    }
   ],
   "source": [
    "# 2.Write a function that accepts two arguments (length,start) to generate an array of a specific length filled\n",
    "# with integer numbers increased by one from start.\n",
    "arr = []\n",
    "def genArray(length,start):\n",
    "    counter = start\n",
    "    for start in range(length):\n",
    "        counter = counter + 1\n",
    "        arr.append(counter)\n",
    "    return arr;\n",
    "\n",
    "print('Enter your Array length : ')\n",
    "arrayLength = int(input()) \n",
    "print('Enter your Array starts from : ')\n",
    "start = int(input())\n",
    "print(genArray(arrayLength,start))"
   ]
  },
  {
   "cell_type": "code",
   "execution_count": 3,
   "metadata": {},
   "outputs": [
    {
     "name": "stdout",
     "output_type": "stream",
     "text": [
      "[6, 4, 2, 1]\n"
     ]
    }
   ],
   "source": [
    "# 3.Fill an array of 5 elements from the user, Sort it in descending and ascending orders then display the output .\n",
    "from enum import Enum\n",
    "\n",
    "class sortOrder(Enum):\n",
    "    ascending = \"asc\"\n",
    "    descending = \"desc\"\n",
    "\n",
    "def sortArr(arr,Sorting):\n",
    "    match Sorting:\n",
    "        case sortOrder.ascending:\n",
    "            arr.sort()\n",
    "            return arr\n",
    "        case  sortOrder.descending:\n",
    "            arr.sort(reverse=True)\n",
    "            return arr\n",
    "        case _:\n",
    "            print(\"Invalid Input, not ascending or descending\")\n",
    "print(sortArr([4,2,1,6],sortOrder.ascending))"
   ]
  },
  {
   "cell_type": "code",
   "execution_count": 80,
   "metadata": {},
   "outputs": [
    {
     "name": "stdout",
     "output_type": "stream",
     "text": [
      "buzz\n"
     ]
    }
   ],
   "source": [
    "# 4.Write a function that takes a number as an argument and if the number divisible by 3 return\n",
    "# \"Fizz\" and if it is divisible by 5 return \"buzz\" and if is is divisible by both return \"FizzBuzz\"\n",
    "\n",
    "def devisionByNumber(num):\n",
    "    if (num % 3 == 0 and num % 5 == 0):\n",
    "        return \"FizzBuzz\"\n",
    "    elif num % 5 == 0:\n",
    "        return \"buzz\"\n",
    "    elif num % 3 == 0:\n",
    "        return \"Fizz\"\n",
    "    else:\n",
    "        return \"Neither Fizz nor Buzz\"\n",
    "print(devisionByNumber(5))"
   ]
  },
  {
   "cell_type": "code",
   "execution_count": 88,
   "metadata": {},
   "outputs": [
    {
     "name": "stdout",
     "output_type": "stream",
     "text": [
      "Enter your string : \n",
      "demha ila\n"
     ]
    }
   ],
   "source": [
    "# 5. Write a function which has an input of a string from user then it will return the same string reversed.\n",
    "\n",
    "def revString(str) :\n",
    "    return str[::-1]\n",
    "print('Enter your string : ')\n",
    "str = input()\n",
    "print(revString(str));\n"
   ]
  },
  {
   "cell_type": "code",
   "execution_count": 142,
   "metadata": {},
   "outputs": [
    {
     "name": "stdout",
     "output_type": "stream",
     "text": [
      "enter string : \n",
      "Palindrome\n"
     ]
    }
   ],
   "source": [
    "# 6.Write a Python function that checks whether a passed string is palindrome or not.Note: A\n",
    "# palindrome is a word, phrase, or sequence that reads the same backward as forward, e.g., madam or nurses run {ignoring the spaces }.\n",
    "\n",
    "def checkPalindrome(userInput) :\n",
    "    reversedArr = [i for i in userInput]\n",
    "    reversedArr.reverse()\n",
    "    if [i for i in userInput] == reversedArr: \n",
    "        return \"Palindrome\"\n",
    "    else:\n",
    "        return \"Not palindrome\"\n",
    "    \n",
    "import re\n",
    "print(\"enter string : \")\n",
    "userInput = input()\n",
    "userInput = re.sub('[\\s+]', '', userInput)\n",
    "print(checkPalindrome(userInput)) # racecar , madam\n",
    "\n"
   ]
  },
  {
   "cell_type": "code",
   "execution_count": 168,
   "metadata": {},
   "outputs": [
    {
     "name": "stdout",
     "output_type": "stream",
     "text": [
      "enter string : \n",
      "Longest substring in alphabetical order is :  abdu\n"
     ]
    }
   ],
   "source": [
    "# 7. Write a function that takes a string and prints the longest alphabetical ordered substring occured. For\n",
    "# example, if the string is 'abdulrahman' then the output is: Longest substring in alphabetical order is: abdu \n",
    "# abdulrahman == 11\n",
    "import string\n",
    "def LongestSubstring(userInput):\n",
    "    currentSubstring = userInput[0]\n",
    "    longestSubstring = userInput[0]\n",
    "    for char in userInput[1:]:\n",
    "        if char >= currentSubstring[-1]:\n",
    "            currentSubstring = currentSubstring + char\n",
    "            if len(currentSubstring) > len(longestSubstring):\n",
    "                longestSubstring = currentSubstring\n",
    "        else:\n",
    "            currentSubstring = char\n",
    "    print (\"Longest substring in alphabetical order is : \", longestSubstring)\n",
    "print(\"enter string : \")\n",
    "userInput = input()\n",
    "userInput = re.sub('[\\s+]', '', userInput)\n",
    "LongestSubstring(userInput)\n",
    "\n"
   ]
  }
 ],
 "metadata": {
  "kernelspec": {
   "display_name": "Python 3",
   "language": "python",
   "name": "python3"
  },
  "language_info": {
   "codemirror_mode": {
    "name": "ipython",
    "version": 3
   },
   "file_extension": ".py",
   "mimetype": "text/x-python",
   "name": "python",
   "nbconvert_exporter": "python",
   "pygments_lexer": "ipython3",
   "version": "3.10.6"
  },
  "orig_nbformat": 4
 },
 "nbformat": 4,
 "nbformat_minor": 2
}
